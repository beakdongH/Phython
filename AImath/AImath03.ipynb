{
  "nbformat": 4,
  "nbformat_minor": 0,
  "metadata": {
    "colab": {
      "provenance": []
    },
    "kernelspec": {
      "name": "python3",
      "display_name": "Python 3"
    },
    "language_info": {
      "name": "python"
    }
  },
  "cells": [
    {
      "cell_type": "code",
      "execution_count": null,
      "metadata": {
        "colab": {
          "base_uri": "https://localhost:8080/"
        },
        "id": "aM8mTPhrABr_",
        "outputId": "594136d8-f94f-4779-9982-451fb2daad43"
      },
      "outputs": [
        {
          "output_type": "stream",
          "name": "stdout",
          "text": [
            "{'노랑', '파랑', '빨강'} {'보라', '빨강', '초록'} {'보라', '파랑', '초록'}\n",
            "0.2 0.5 0.2\n"
          ]
        }
      ],
      "source": [
        "P=set(\"빨강 노랑 파랑\".split(' '))\n",
        "Q=set(\"빨강 초록 보라\".split(' '))\n",
        "R=set(\"초록 파랑 보라\".split(' '))\n",
        "\n",
        "print(P,Q,R)\n",
        "\n",
        "#합집합 (|) 교집합(&)\n",
        "def J(P,Q):\n",
        "  return(len(P&Q)/len(P|Q))\n",
        "\n",
        "print(J(P,Q),J(Q,R),J(R,P))\n"
      ]
    },
    {
      "cell_type": "code",
      "source": [
        "import numpy as np\n",
        "P=np.array([1,0,0])\n",
        "Q=np.array([0,1,2])\n",
        "R=np.array([1,1,0])\n",
        "\n",
        "#print(np.linalg.norm(P-Q),np.linalg.norm(Q-R),np.linalg.norm(R-P))\n",
        "\n",
        "def E(P, Q):\n",
        "  return(round(np.linalg.norm(Q-P),3))\n",
        "def C(P,Q):\n",
        "  return((np.dot(P,Q) / (np.linalg.norm(P)*np.linalg.norm(Q)),3))\n",
        "\n",
        "print(E(P,Q),C(P,Q))\n",
        "print(E(Q,R),C(Q,R))\n",
        "print(E(P,R),C(P,R))"
      ],
      "metadata": {
        "colab": {
          "base_uri": "https://localhost:8080/"
        },
        "id": "K5Skt_wRK7ew",
        "outputId": "fbc3029d-cedf-424f-9b48-3c6634848550"
      },
      "execution_count": null,
      "outputs": [
        {
          "output_type": "stream",
          "name": "stdout",
          "text": [
            "2.449 (0.0, 3)\n",
            "2.236 (0.31622776601683794, 3)\n",
            "1.0 (0.7071067811865475, 3)\n"
          ]
        }
      ]
    },
    {
      "cell_type": "code",
      "source": [
        "def perceptron(X, W, d):\n",
        "  X_arr = np.array(X)\n",
        "  W_arr = np.array(W)\n",
        "  S = np.dot(X_arr,W_arr)\n",
        "  if S>d:\n",
        "    return(3)\n",
        "  else:\n",
        "    return(0)\n",
        "for x in range(0,2):\n",
        "  for y in range(0,2):\n",
        "    print(perceptron([0,0],[0.7,-0.4],0))"
      ],
      "metadata": {
        "colab": {
          "base_uri": "https://localhost:8080/"
        },
        "id": "rzkQnzSuSdBj",
        "outputId": "ed23c7ac-9c8d-4f8a-a119-d57597a92889"
      },
      "execution_count": null,
      "outputs": [
        {
          "output_type": "stream",
          "name": "stdout",
          "text": [
            "0\n",
            "0\n",
            "0\n",
            "0\n"
          ]
        }
      ]
    },
    {
      "cell_type": "code",
      "source": [],
      "metadata": {
        "id": "FseYI5mpS7dF"
      },
      "execution_count": null,
      "outputs": []
    }
  ]
}