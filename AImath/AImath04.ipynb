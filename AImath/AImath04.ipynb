{
  "nbformat": 4,
  "nbformat_minor": 0,
  "metadata": {
    "colab": {
      "provenance": []
    },
    "kernelspec": {
      "name": "python3",
      "display_name": "Python 3"
    },
    "language_info": {
      "name": "python"
    }
  },
  "cells": [
    {
      "cell_type": "code",
      "execution_count": null,
      "metadata": {
        "id": "cu2ealHdEsOm",
        "colab": {
          "base_uri": "https://localhost:8080/"
        },
        "outputId": "588e11f2-73a6-4d7c-cd91-9c80c43a565e"
      },
      "outputs": [
        {
          "output_type": "stream",
          "name": "stdout",
          "text": [
            "0\n",
            "1\n",
            "1\n",
            "0\n"
          ]
        }
      ],
      "source": [
        "import numpy as np\n",
        "\n",
        "def perc(X,W,d):\n",
        "  X = np.array(X)\n",
        "  W = np.array(W)\n",
        "  S = np.dot(X,W) #dot연산 : 내적, 선형결합\n",
        "  if S>=d:\n",
        "    return(1)\n",
        "  else:\n",
        "    return(0)\n",
        "\n",
        "def perc_and(X):\n",
        "  return(perc(X,[5,5],6))\n",
        "def perc_or(X):\n",
        "  return(perc(X,[5,5],4))\n",
        "def perc_nand(X):\n",
        "  return(1-perc_and(X))\n",
        "def perc_xor(X):\n",
        "  return(perc_and([perc_nand(X),perc_or(X)]))\n",
        "\n",
        "\n",
        "\n",
        "for x in range(2):\n",
        "  for y in range(2):\n",
        "    print(perc_xor([x,y]))\n"
      ]
    },
    {
      "cell_type": "code",
      "source": [
        "import numpy as np\n",
        "\n",
        "def perc(X,W,d):\n",
        "  X = np.array(X)\n",
        "  W = np.array(W)\n",
        "  S = np.dot(X,W) #dot연산 : 내적, 선형결합\n",
        "  if S>=d:\n",
        "    return(1)\n",
        "  else:\n",
        "    return(0)\n",
        "\n",
        "for x in range(2):\n",
        "  for y in range(2):\n",
        "    print(perc([x,y],[5,5],2))"
      ],
      "metadata": {
        "colab": {
          "base_uri": "https://localhost:8080/"
        },
        "id": "lP_OilK0FtF-",
        "outputId": "aa350e87-64ed-4ffe-f044-64a703f872ff"
      },
      "execution_count": null,
      "outputs": [
        {
          "output_type": "stream",
          "name": "stdout",
          "text": [
            "1\n",
            "0\n",
            "0\n",
            "0\n"
          ]
        }
      ]
    },
    {
      "cell_type": "code",
      "source": [
        "import numpy as np\n",
        "\n",
        "A = np.array([[0,1,1,1,0],\n",
        "             [1,0,0,0,1],\n",
        "             [1,0,0,1,1],\n",
        "             [1,0,1,0,1],\n",
        "             [1,1,0,0,1],\n",
        "             [1,0,0,0,1],\n",
        "             [0,1,1,1,0]])\n",
        "\n",
        "B = np.array([[0,1,1,1,0],\n",
        "             [1,0,0,0,1],\n",
        "             [1,0,0,0,1],\n",
        "             [0,1,1,1,0],\n",
        "             [1,0,0,0,1],\n",
        "             [1,0,0,0,1],\n",
        "             [0,1,1,1,0]])\n",
        "\n",
        "C = np.array([[0,1,1,1,0],\n",
        "             [1,0,0,0,1],\n",
        "             [1,0,0,0,1],\n",
        "             [0,0,0,0,0],\n",
        "             [1,0,0,0,1],\n",
        "             [1,0,0,0,1],\n",
        "             [0,1,1,1,0]])\n",
        "\n",
        "D = np.array([[0, 1, 0, 1, 0],\n",
        "              [1, 0, 1, 0, 1],\n",
        "              [0, 1, 0, 1, 0],\n",
        "              [1, 0, 1, 0, 1],\n",
        "              [1, 0, 0, 0, 1],\n",
        "              [0, 1, 0, 1, 0]])\n",
        "\n",
        "\n",
        "\n",
        "#sum은 모든 성분의 합\n",
        "np.sum(D)\n",
        "\n",
        "#abs는 모든성분의 절댓값\n",
        "np.abs(-D)\n",
        "\n",
        "\n",
        "def H(X,Y):\n",
        "  return(np.abs(np.sum(X-Y)))\n",
        "\n",
        "def P(X,Y):\n",
        "  return(np.sum(X*Y)/np.sum(X))\n",
        "\n",
        "for X, i in enumerate([A,B,C]):\n",
        "  #psrint(H(X,D),\"해밍{}번째\".format(i))\n",
        "  print(P(X,C),\"퍼셉트론{}번째\".format(i))\n",
        "\n"
      ],
      "metadata": {
        "colab": {
          "base_uri": "https://localhost:8080/"
        },
        "id": "pQHlXQPtQNBo",
        "outputId": "a4c73470-9dd5-4829-d47e-19423b08899f"
      },
      "execution_count": null,
      "outputs": [
        {
          "output_type": "stream",
          "name": "stdout",
          "text": [
            "14 [[0 1 1 1 0]\n",
            " [1 0 0 0 1]\n",
            " [1 0 0 1 1]\n",
            " [1 0 1 0 1]\n",
            " [1 1 0 0 1]\n",
            " [1 0 0 0 1]\n",
            " [0 1 1 1 0]]\n",
            "16 [[0 1 1 1 0]\n",
            " [1 0 0 0 1]\n",
            " [1 0 0 0 1]\n",
            " [0 1 1 1 0]\n",
            " [1 0 0 0 1]\n",
            " [1 0 0 0 1]\n",
            " [0 1 1 1 0]]\n",
            "46 [[0 1 1 1 0]\n",
            " [1 0 0 0 1]\n",
            " [1 0 0 0 1]\n",
            " [0 0 0 0 0]\n",
            " [1 0 0 0 1]\n",
            " [1 0 0 0 1]\n",
            " [0 1 1 1 0]]\n"
          ]
        }
      ]
    },
    {
      "cell_type": "code",
      "source": [],
      "metadata": {
        "id": "MppPEKJyT-Gi"
      },
      "execution_count": null,
      "outputs": []
    }
  ]
}