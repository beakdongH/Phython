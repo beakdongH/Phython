{
  "nbformat": 4,
  "nbformat_minor": 0,
  "metadata": {
    "colab": {
      "provenance": []
    },
    "kernelspec": {
      "name": "python3",
      "display_name": "Python 3"
    },
    "language_info": {
      "name": "python"
    }
  },
  "cells": [
    {
      "cell_type": "code",
      "execution_count": null,
      "metadata": {
        "colab": {
          "base_uri": "https://localhost:8080/"
        },
        "id": "zWrtygk8Rqi4",
        "outputId": "d2893b05-fcf6-47cc-adb6-3711a093becf"
      },
      "outputs": [
        {
          "output_type": "execute_result",
          "data": {
            "text/plain": [
              "<pandas.core.groupby.generic.DataFrameGroupBy object at 0x7f4928323670>"
            ]
          },
          "metadata": {},
          "execution_count": 23
        }
      ],
      "source": [
        "import pandas as pd\n",
        "datalist = [[\"Weat\",\"S,S,C,R,R,R,C,S,S,R,S,C,C,R\".split(\",\")],\n",
        "            [\"Temp\",\"H,H,H,N,C,C,C,H,C,N,N,N,H,B\".split(\",\")],\n",
        "            [\"Exer\",[0,0,1,1,1,0,1,0,1,1,1,1,1,0]]]\n",
        "\n",
        "df = pd.DataFrame.from_dict(dict(datalist))\n",
        "#df.groupby(\"Exer\").count()\n",
        "#df.groupby(\"Weat\").count()\n",
        "#df.groupby([\"Temp\",\"Exer\"]).count()\n"
      ]
    },
    {
      "cell_type": "code",
      "source": [],
      "metadata": {
        "id": "DXAYzs0ZTIeQ"
      },
      "execution_count": null,
      "outputs": []
    }
  ]
}