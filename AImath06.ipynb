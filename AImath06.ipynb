{
  "nbformat": 4,
  "nbformat_minor": 0,
  "metadata": {
    "colab": {
      "provenance": [],
      "authorship_tag": "ABX9TyNQpNnbJjjWbaL1z8oc2JdD",
      "include_colab_link": true
    },
    "kernelspec": {
      "name": "python3",
      "display_name": "Python 3"
    },
    "language_info": {
      "name": "python"
    }
  },
  "cells": [
    {
      "cell_type": "markdown",
      "metadata": {
        "id": "view-in-github",
        "colab_type": "text"
      },
      "source": [
        "<a href=\"https://colab.research.google.com/github/beakdongH/Python/blob/main/AImath06.ipynb\" target=\"_parent\"><img src=\"https://colab.research.google.com/assets/colab-badge.svg\" alt=\"Open In Colab\"/></a>"
      ]
    },
    {
      "cell_type": "code",
      "execution_count": null,
      "metadata": {
        "colab": {
          "base_uri": "https://localhost:8080/",
          "height": 51
        },
        "id": "Z8CY8TbCSQdW",
        "outputId": "702b76a4-8fb2-4ea4-e7c8-bd9ef0ffc25d"
      },
      "outputs": [
        {
          "output_type": "execute_result",
          "data": {
            "text/plain": [
              "176*a**2 - 1696*a/5 + 166"
            ],
            "text/latex": "$\\displaystyle 176 a^{2} - \\frac{1696 a}{5} + 166$"
          },
          "metadata": {},
          "execution_count": 8
        }
      ],
      "source": [
        "import sympy as sp\n",
        "import numpy as np\n",
        "a = sp.Symbol(\"a\")\n",
        "\n",
        "listx = np.array([4,8,12,16,20])\n",
        "listy = np.array([6,5,12,15,20])\n",
        "\n",
        "expect1 = (9/8)*listx\n",
        "expect2 = (7/8)*listx\n",
        "expect3 = (8/8)*listx\n",
        "expecta = a*listx\n",
        "\n",
        "#print(expecta)\n",
        "\n",
        "# dist1 = listy-expect1\n",
        "# dist2 = listy-expect2\n",
        "# dist3 = listy-expect3\n",
        "dista = listy - expecta\n",
        "\n",
        "# print(sum(dist1**2)/len(listx))\n",
        "# print(sum(dist2**2)/len(listx))\n",
        "# print(sum(dist3**2)/len(listx))\n",
        "sp.expand(sum(dista**2)/len(listx))"
      ]
    },
    {
      "cell_type": "code",
      "source": [
        "import sympy as sp\n",
        "import numpy as np\n",
        "a = sp.Symbol(\"a\")\n",
        "\n",
        "listx = np.array([4,8,12,16,20])\n",
        "listy = np.array([6,5,12,15,20])\n",
        "\n",
        "g1 = np.array([3,6,9,3,6,9])\n",
        "g2 = np.array([5,8,11,3,4,5])\n",
        "\n",
        "def los(listx,listy,a):\n",
        "  expecta = a*listx\n",
        "  dista = listy - expecta\n",
        "  return sp.expand(sum(dista**2)/len(listx))\n",
        "\n",
        "los(listx,listy,a)"
      ],
      "metadata": {
        "colab": {
          "base_uri": "https://localhost:8080/",
          "height": 51
        },
        "id": "vwXDu2pDWMF5",
        "outputId": "1e61d53b-d49d-4dd5-8130-48cb1a832e67"
      },
      "execution_count": null,
      "outputs": [
        {
          "output_type": "execute_result",
          "data": {
            "text/plain": [
              "176*a**2 - 1696*a/5 + 166"
            ],
            "text/latex": "$\\displaystyle 176 a^{2} - \\frac{1696 a}{5} + 166$"
          },
          "metadata": {},
          "execution_count": 17
        }
      ]
    },
    {
      "cell_type": "code",
      "source": [],
      "metadata": {
        "id": "ZDK0l1fLcS3Q"
      },
      "execution_count": null,
      "outputs": []
    }
  ]
}